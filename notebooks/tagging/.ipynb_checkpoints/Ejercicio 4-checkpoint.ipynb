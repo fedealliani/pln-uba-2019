{
 "cells": [
  {
   "cell_type": "markdown",
   "metadata": {},
   "source": [
    "# Ejercicio 4"
   ]
  },
  {
   "cell_type": "markdown",
   "metadata": {},
   "source": [
    "## 1. Logistic Regression"
   ]
  },
  {
   "cell_type": "markdown",
   "metadata": {},
   "source": [
    "### 1.1 Entrenamiento"
   ]
  },
  {
   "cell_type": "code",
   "execution_count": 24,
   "metadata": {},
   "outputs": [],
   "source": [
    "%run ../../tagging/scripts/train.py -m classifier -t lr -c ../../ancora-3.0.1es -o classifier_lr"
   ]
  },
  {
   "cell_type": "markdown",
   "metadata": {},
   "source": [
    "### 1.2 Evaluación"
   ]
  },
  {
   "cell_type": "code",
   "execution_count": 25,
   "metadata": {},
   "outputs": [
    {
     "name": "stdout",
     "output_type": "stream",
     "text": [
      "\n",
      "Accuracy: 91.69% / 95.01% / 61.67% (total / known / unk)\n",
      "\n",
      "g \\ m\tsp000\tnc0s000\tda0000\taq0000\tfc\tnc0p000\trg\tnp00000\tfp\tcc\n",
      "sp000\t14.26\t0.01\t-\t0.05\t-\t-\t0.01\t0.00\t-\t-\t\n",
      "nc0s000\t0.00\t11.89\t0.01\t0.52\t-\t0.02\t0.02\t0.09\t-\t-\t\n",
      "da0000\t-\t0.11\t9.50\t0.01\t-\t0.01\t-\t0.01\t-\t-\t\n",
      "aq0000\t0.00\t0.51\t-\t6.43\t-\t0.17\t0.01\t0.06\t-\t-\t\n",
      "fc\t-\t-\t-\t-\t5.85\t-\t-\t-\t-\t-\t\n",
      "nc0p000\t-\t0.35\t-\t0.46\t-\t4.61\t-\t0.04\t-\t-\t\n",
      "rg\t0.02\t0.04\t0.00\t0.39\t-\t0.00\t3.11\t0.03\t-\t0.02\t\n",
      "np00000\t-\t0.22\t-\t0.08\t-\t0.01\t-\t3.24\t-\t0.00\t\n",
      "fp\t-\t-\t-\t-\t-\t-\t-\t-\t3.55\t-\t\n",
      "cc\t0.00\t0.00\t-\t0.01\t-\t0.00\t0.05\t0.00\t-\t3.34\t\n"
     ]
    }
   ],
   "source": [
    "%run ../../tagging/scripts/eval.py -c ../../ancora-3.0.1es -i classifier_lr -m"
   ]
  },
  {
   "cell_type": "markdown",
   "metadata": {},
   "source": [
    "### 1.3 Analisis de errores"
   ]
  },
  {
   "cell_type": "markdown",
   "metadata": {},
   "source": [
    "### Lo que mas se confunde son los sustantivos comunes con los adjetivos descriptivos"
   ]
  },
  {
   "cell_type": "code",
   "execution_count": 26,
   "metadata": {},
   "outputs": [
    {
     "name": "stdout",
     "output_type": "stream",
     "text": [
      "# Confusiones de sustantivos comunes con adjetivos descriptivos: 492\n"
     ]
    }
   ],
   "source": [
    "print(\"# Confusiones de sustantivos comunes con adjetivos descriptivos: \" + str(error_count['nc0s000']['aq0000']))"
   ]
  },
  {
   "cell_type": "code",
   "execution_count": 27,
   "metadata": {},
   "outputs": [
    {
     "name": "stdout",
     "output_type": "stream",
     "text": [
      "Indices de las oraciones de dicha confusion: [6, 23, 26, 60, 105, 106, 122, 126, 132, 134]\n"
     ]
    }
   ],
   "source": [
    "print(\"Indices de las oraciones de dicha confusion: \" + str(sorted(error_sents['nc0s000']['aq0000'])[:10]))"
   ]
  },
  {
   "cell_type": "markdown",
   "metadata": {},
   "source": [
    "### Aca podemos ver que la palabra innovación esta taggeada como sustantivo comun y se la marca como adjetivo"
   ]
  },
  {
   "cell_type": "code",
   "execution_count": 28,
   "metadata": {},
   "outputs": [
    {
     "name": "stdout",
     "output_type": "stream",
     "text": [
      "Corpus ancora Tagged: ('innovación', 'nc0s000')\n",
      "Logistic Regression Tagged: ('innovación', 'aq0000')\n"
     ]
    }
   ],
   "source": [
    "sent = sents[6]\n",
    "words, tags = zip(*sent)  # separar las palabras de los tags\n",
    "print(\"Corpus ancora Tagged: \"+str(sent[-2])) \n",
    "print(\"Logistic Regression Tagged: \"+ str((words[-2],model.tag(words)[-2])))"
   ]
  },
  {
   "cell_type": "markdown",
   "metadata": {},
   "source": [
    "### 1.4 Agregare features para adjetivos descriptivos asi no se confunde tanto con los sustantivos comunes. Ejemplo : Palabras que terminen con ada,ido,ado,ción,sión."
   ]
  },
  {
   "cell_type": "markdown",
   "metadata": {},
   "source": [
    "## 2. MultinomialNB"
   ]
  },
  {
   "cell_type": "markdown",
   "metadata": {},
   "source": [
    "### 2.1 Entrenamiento"
   ]
  },
  {
   "cell_type": "code",
   "execution_count": 29,
   "metadata": {},
   "outputs": [],
   "source": [
    "%run ../../tagging/scripts/train.py -m classifier -t mnnb -c ../../ancora-3.0.1es -o classifier_mnnb"
   ]
  },
  {
   "cell_type": "markdown",
   "metadata": {},
   "source": [
    "### 2.2 Evaluación"
   ]
  },
  {
   "cell_type": "code",
   "execution_count": 30,
   "metadata": {},
   "outputs": [
    {
     "name": "stdout",
     "output_type": "stream",
     "text": [
      "\n",
      "Accuracy: 84.28% / 88.07% / 49.99% (total / known / unk)\n",
      "\n",
      "g \\ m\tsp000\tnc0s000\tda0000\taq0000\tfc\tnc0p000\trg\tnp00000\tfp\tcc\n",
      "sp000\t14.31\t-\t0.01\t0.00\t0.00\t0.00\t0.00\t0.00\t-\t-\t\n",
      "nc0s000\t0.05\t12.05\t0.07\t0.09\t0.02\t0.01\t0.00\t0.29\t-\t0.00\t\n",
      "da0000\t0.00\t0.14\t9.52\t0.00\t0.00\t0.00\t-\t0.01\t-\t-\t\n",
      "aq0000\t0.22\t0.88\t0.19\t5.11\t0.14\t0.23\t0.01\t0.40\t0.00\t0.01\t\n",
      "fc\t0.00\t-\t-\t-\t5.85\t-\t-\t0.00\t-\t-\t\n",
      "nc0p000\t0.06\t0.28\t0.17\t0.07\t0.02\t4.64\t0.00\t0.26\t-\t0.00\t\n",
      "rg\t0.20\t0.17\t0.08\t0.14\t0.04\t0.01\t2.77\t0.23\t-\t0.02\t\n",
      "np00000\t0.03\t0.27\t0.05\t0.00\t0.00\t0.01\t0.00\t3.21\t-\t-\t\n",
      "fp\t0.00\t-\t-\t-\t-\t-\t-\t-\t3.55\t-\t\n",
      "cc\t0.01\t0.00\t0.00\t-\t-\t0.00\t0.05\t0.05\t-\t3.29\t\n"
     ]
    }
   ],
   "source": [
    "%run ../../tagging/scripts/eval.py -c ../../ancora-3.0.1es -i classifier_mnnb  -m"
   ]
  },
  {
   "cell_type": "markdown",
   "metadata": {},
   "source": [
    "### 2.3 Analisis de errores\n"
   ]
  },
  {
   "cell_type": "markdown",
   "metadata": {},
   "source": [
    "### Lo que mas se confunde son los adjetivos descriptivos con los  sustantivos comunes , similiar a lo que sucede con logistic regression. Con el feature agregado para Logistic Regresssion deberia mejorar."
   ]
  },
  {
   "cell_type": "markdown",
   "metadata": {},
   "source": [
    "### Lo segundo que mas se confunde son los adjetivos descriptivos con los nombres propios."
   ]
  },
  {
   "cell_type": "code",
   "execution_count": 31,
   "metadata": {},
   "outputs": [
    {
     "name": "stdout",
     "output_type": "stream",
     "text": [
      "# Confusiones de adjetivos descriptivos con nombres propios: 379\n"
     ]
    }
   ],
   "source": [
    "print(\"# Confusiones de adjetivos descriptivos con nombres propios: \" + str(error_count['aq0000']['np00000']))"
   ]
  },
  {
   "cell_type": "code",
   "execution_count": 32,
   "metadata": {},
   "outputs": [
    {
     "name": "stdout",
     "output_type": "stream",
     "text": [
      "Indices de las oraciones de dicha confusion: [42, 49, 112, 113, 129, 162, 165, 187, 192, 242]\n"
     ]
    }
   ],
   "source": [
    "print(\"Indices de las oraciones de dicha confusion: \" + str(sorted(error_sents['aq0000']['np00000'])[:10]))"
   ]
  },
  {
   "cell_type": "markdown",
   "metadata": {},
   "source": [
    "### Aca podemos ver que la palabra golpista esta taggeada como adjetivo descriptivo y se la marca como sustantivo propio\n"
   ]
  },
  {
   "cell_type": "code",
   "execution_count": 33,
   "metadata": {},
   "outputs": [
    {
     "name": "stdout",
     "output_type": "stream",
     "text": [
      "Corpus ancora Tagged: ('golpista', 'aq0000')\n",
      "MultinomialNB Tagged: ('golpista', 'np00000')\n"
     ]
    }
   ],
   "source": [
    "sent = sents[112]\n",
    "words, tags = zip(*sent)  # separar las palabras de los tags\n",
    "print(\"Corpus ancora Tagged: \"+str(sent[9])) \n",
    "print(\"MultinomialNB Tagged: \"+ str((words[9],model.tag(words)[9])))"
   ]
  },
  {
   "cell_type": "markdown",
   "metadata": {},
   "source": [
    "### 2.4 Agregare features para adjetivos descriptivos asi no se confunde tanto con los sustantivos propios. Ejemplo : Palabras que terminen con ista,asta,este."
   ]
  },
  {
   "cell_type": "markdown",
   "metadata": {},
   "source": [
    "## 3. LinearSVC"
   ]
  },
  {
   "cell_type": "markdown",
   "metadata": {},
   "source": [
    "### 3.1 Entrenamiento\n"
   ]
  },
  {
   "cell_type": "code",
   "execution_count": 34,
   "metadata": {},
   "outputs": [],
   "source": [
    "%run ../../tagging/scripts/train.py -m classifier -t svm -c ../../ancora-3.0.1es -o classifier_svm"
   ]
  },
  {
   "cell_type": "markdown",
   "metadata": {},
   "source": [
    "### 3.2 Evaluación"
   ]
  },
  {
   "cell_type": "code",
   "execution_count": 35,
   "metadata": {},
   "outputs": [
    {
     "name": "stdout",
     "output_type": "stream",
     "text": [
      "\n",
      "Accuracy: 94.11% / 97.57% / 62.76% (total / known / unk)\n",
      "\n",
      "g \\ m\tsp000\tnc0s000\tda0000\taq0000\tfc\tnc0p000\trg\tnp00000\tfp\tcc\n",
      "sp000\t14.30\t0.00\t-\t0.03\t-\t-\t0.00\t-\t-\t-\t\n",
      "nc0s000\t0.00\t12.09\t0.01\t0.33\t-\t0.02\t0.02\t0.08\t-\t0.00\t\n",
      "da0000\t-\t0.08\t9.53\t-\t-\t0.00\t-\t0.00\t-\t-\t\n",
      "aq0000\t0.00\t0.34\t-\t6.61\t-\t0.15\t0.01\t0.05\t-\t-\t\n",
      "fc\t-\t-\t-\t-\t5.85\t-\t-\t-\t-\t-\t\n",
      "nc0p000\t-\t0.25\t-\t0.31\t-\t4.90\t-\t0.04\t-\t-\t\n",
      "rg\t0.02\t0.02\t0.00\t0.21\t-\t0.01\t3.35\t0.01\t-\t0.02\t\n",
      "np00000\t0.00\t0.21\t-\t0.08\t-\t0.01\t-\t3.26\t-\t0.00\t\n",
      "fp\t-\t-\t-\t-\t-\t-\t-\t-\t3.55\t-\t\n",
      "cc\t0.00\t-\t-\t0.01\t-\t-\t0.05\t0.00\t-\t3.34\t\n"
     ]
    }
   ],
   "source": [
    "%run ../../tagging/scripts/eval.py -c ../../ancora-3.0.1es -i classifier_svm -m"
   ]
  },
  {
   "cell_type": "markdown",
   "metadata": {},
   "source": [
    "### 3.3 Analisis de errores\n"
   ]
  },
  {
   "cell_type": "markdown",
   "metadata": {},
   "source": [
    "### Lo que mas se confunde son los mismos errores que se cometian con los otros classifiers. Con los nuevos features deberia mejorar."
   ]
  },
  {
   "cell_type": "markdown",
   "metadata": {},
   "source": [
    "## 4. Nuevo Classifier"
   ]
  },
  {
   "cell_type": "markdown",
   "metadata": {},
   "source": [
    "## 4.1 Logistic Regression"
   ]
  },
  {
   "cell_type": "markdown",
   "metadata": {},
   "source": [
    "### Entrenamiento"
   ]
  },
  {
   "cell_type": "code",
   "execution_count": 36,
   "metadata": {},
   "outputs": [],
   "source": [
    "%run ../../tagging/scripts/train.py -m classifier_ej_4 -t lr -c ../../ancora-3.0.1es -o classifier_lr_ej4"
   ]
  },
  {
   "cell_type": "markdown",
   "metadata": {},
   "source": [
    "### Evaluación"
   ]
  },
  {
   "cell_type": "code",
   "execution_count": 37,
   "metadata": {},
   "outputs": [
    {
     "name": "stdout",
     "output_type": "stream",
     "text": [
      "\n",
      "Accuracy: 92.01% / 95.27% / 62.55% (total / known / unk)\n",
      "\n",
      "g \\ m\tsp000\tnc0s000\tda0000\taq0000\tfc\tnc0p000\trg\tnp00000\tfp\tcc\n",
      "sp000\t14.27\t0.01\t-\t0.05\t-\t0.00\t0.01\t0.00\t-\t-\t\n",
      "nc0s000\t0.00\t11.94\t0.01\t0.47\t-\t0.03\t0.02\t0.09\t-\t-\t\n",
      "da0000\t-\t0.11\t9.51\t0.01\t-\t0.01\t-\t0.01\t-\t-\t\n",
      "aq0000\t0.01\t0.44\t-\t6.48\t-\t0.19\t0.01\t0.05\t-\t-\t\n",
      "fc\t-\t-\t-\t-\t5.85\t-\t-\t-\t-\t-\t\n",
      "nc0p000\t-\t0.27\t-\t0.43\t-\t4.72\t0.00\t0.04\t-\t-\t\n",
      "rg\t0.02\t0.04\t0.00\t0.36\t-\t0.01\t3.14\t0.03\t-\t0.02\t\n",
      "np00000\t-\t0.22\t-\t0.08\t-\t0.02\t-\t3.25\t-\t0.00\t\n",
      "fp\t-\t-\t-\t-\t-\t-\t-\t-\t3.55\t-\t\n",
      "cc\t0.00\t0.00\t-\t0.01\t-\t0.00\t0.05\t0.00\t-\t3.34\t\n"
     ]
    }
   ],
   "source": [
    "%run ../../tagging/scripts/eval.py -c ../../ancora-3.0.1es -i classifier_lr_ej4 -m"
   ]
  },
  {
   "cell_type": "markdown",
   "metadata": {},
   "source": [
    "## Podemos ver una leve mejora de 91.69% de accuracy total a 92.01%"
   ]
  },
  {
   "cell_type": "markdown",
   "metadata": {},
   "source": [
    "## 4.2 MultinomialNB\n"
   ]
  },
  {
   "cell_type": "markdown",
   "metadata": {},
   "source": [
    "### Entrenamiento\n"
   ]
  },
  {
   "cell_type": "code",
   "execution_count": 38,
   "metadata": {},
   "outputs": [],
   "source": [
    "%run ../../tagging/scripts/train.py -m classifier_ej_4 -t mnnb -c ../../ancora-3.0.1es -o classifier_mnnb_ej4"
   ]
  },
  {
   "cell_type": "markdown",
   "metadata": {},
   "source": [
    "### Evaluación\n"
   ]
  },
  {
   "cell_type": "code",
   "execution_count": 39,
   "metadata": {},
   "outputs": [
    {
     "name": "stdout",
     "output_type": "stream",
     "text": [
      "\n",
      "Accuracy: 84.35% / 88.00% / 51.36% (total / known / unk)\n",
      "\n",
      "g \\ m\tsp000\tnc0s000\tda0000\taq0000\tfc\tnc0p000\trg\tnp00000\tfp\tcc\n",
      "sp000\t14.31\t-\t0.02\t0.00\t0.00\t0.00\t0.00\t0.00\t-\t-\t\n",
      "nc0s000\t0.05\t12.06\t0.07\t0.11\t0.01\t0.01\t0.00\t0.27\t-\t0.00\t\n",
      "da0000\t0.00\t0.13\t9.52\t0.00\t0.00\t0.00\t-\t0.02\t-\t-\t\n",
      "aq0000\t0.20\t0.80\t0.19\t5.25\t0.12\t0.24\t0.01\t0.36\t0.00\t0.00\t\n",
      "fc\t0.00\t-\t-\t-\t5.85\t-\t-\t0.00\t-\t-\t\n",
      "nc0p000\t0.06\t0.26\t0.16\t0.07\t0.02\t4.66\t0.00\t0.27\t-\t0.00\t\n",
      "rg\t0.20\t0.15\t0.08\t0.15\t0.05\t0.01\t2.75\t0.24\t0.00\t0.02\t\n",
      "np00000\t0.02\t0.27\t0.06\t0.01\t0.00\t0.01\t0.00\t3.20\t-\t-\t\n",
      "fp\t0.00\t-\t-\t-\t-\t-\t-\t-\t3.55\t-\t\n",
      "cc\t0.01\t0.00\t0.00\t-\t-\t0.00\t0.05\t0.05\t-\t3.29\t\n"
     ]
    }
   ],
   "source": [
    "%run ../../tagging/scripts/eval.py -c ../../ancora-3.0.1es -i classifier_mnnb_ej4 -m"
   ]
  },
  {
   "cell_type": "markdown",
   "metadata": {},
   "source": [
    "## Podemos ver una leve mejora de 84.28% de accuracy total a 84.35%"
   ]
  },
  {
   "cell_type": "markdown",
   "metadata": {},
   "source": [
    "## 4.3 LinearSVC\n"
   ]
  },
  {
   "cell_type": "markdown",
   "metadata": {},
   "source": [
    "### Entrenamiento\n"
   ]
  },
  {
   "cell_type": "code",
   "execution_count": 40,
   "metadata": {},
   "outputs": [],
   "source": [
    "%run ../../tagging/scripts/train.py -m classifier_ej_4 -t svm -c ../../ancora-3.0.1es -o classifier_svm_ej4"
   ]
  },
  {
   "cell_type": "markdown",
   "metadata": {},
   "source": [
    "### Evaluación\n"
   ]
  },
  {
   "cell_type": "code",
   "execution_count": 41,
   "metadata": {},
   "outputs": [
    {
     "name": "stdout",
     "output_type": "stream",
     "text": [
      "\n",
      "Accuracy: 94.24% / 97.61% / 63.72% (total / known / unk)\n",
      "\n",
      "g \\ m\tsp000\tnc0s000\tda0000\taq0000\tfc\tnc0p000\trg\tnp00000\tfp\tcc\n",
      "sp000\t14.30\t0.00\t-\t0.03\t-\t0.00\t0.00\t-\t-\t-\t\n",
      "nc0s000\t0.00\t12.10\t0.01\t0.30\t-\t0.03\t0.02\t0.08\t-\t0.00\t\n",
      "da0000\t-\t0.08\t9.53\t0.01\t-\t0.00\t-\t0.00\t-\t-\t\n",
      "aq0000\t0.01\t0.30\t-\t6.62\t-\t0.17\t0.01\t0.05\t-\t-\t\n",
      "fc\t-\t-\t-\t-\t5.85\t-\t-\t-\t-\t-\t\n",
      "nc0p000\t-\t0.22\t-\t0.29\t-\t4.95\t-\t0.04\t-\t-\t\n",
      "rg\t0.02\t0.02\t0.00\t0.21\t-\t0.01\t3.35\t0.01\t-\t0.02\t\n",
      "np00000\t0.00\t0.21\t-\t0.08\t-\t0.01\t-\t3.26\t-\t0.00\t\n",
      "fp\t-\t-\t-\t-\t-\t-\t-\t-\t3.55\t-\t\n",
      "cc\t0.00\t0.00\t-\t0.01\t-\t-\t0.05\t0.00\t-\t3.34\t\n"
     ]
    }
   ],
   "source": [
    "%run ../../tagging/scripts/eval.py -c ../../ancora-3.0.1es -i classifier_svm_ej4 -m"
   ]
  },
  {
   "cell_type": "markdown",
   "metadata": {},
   "source": [
    "## Podemos ver una leve mejora de 94.11% de accuracy total a 94.24%"
   ]
  },
  {
   "cell_type": "code",
   "execution_count": null,
   "metadata": {},
   "outputs": [],
   "source": []
  }
 ],
 "metadata": {
  "kernelspec": {
   "display_name": "Python 3",
   "language": "python",
   "name": "python3"
  },
  "language_info": {
   "codemirror_mode": {
    "name": "ipython",
    "version": 3
   },
   "file_extension": ".py",
   "mimetype": "text/x-python",
   "name": "python",
   "nbconvert_exporter": "python",
   "pygments_lexer": "ipython3",
   "version": "3.7.4"
  }
 },
 "nbformat": 4,
 "nbformat_minor": 2
}
